{
 "cells": [
  {
   "cell_type": "markdown",
   "metadata": {},
   "source": [
    "## DATA3960 - Capstone Project - Group 3 "
   ]
  },
  {
   "cell_type": "markdown",
   "metadata": {},
   "source": [
    "### Impact of Property Features on Property Pricing"
   ]
  },
  {
   "cell_type": "markdown",
   "metadata": {},
   "source": []
  },
  {
   "cell_type": "code",
   "execution_count": 1,
   "metadata": {},
   "outputs": [],
   "source": [
    "import pandas as pd\n",
    "import numpy as np"
   ]
  },
  {
   "cell_type": "code",
   "execution_count": 11,
   "metadata": {},
   "outputs": [
    {
     "name": "stderr",
     "output_type": "stream",
     "text": [
      "/var/folders/j5/l4n1h3z533nbg7ks96r5chn80000gn/T/ipykernel_15944/18147895.py:5: DtypeWarning: Columns (47) have mixed types. Specify dtype option on import or set low_memory=False.\n",
      "  active_data = pd.read_csv('/Users/glennbarnes/inputData/ActiveData_RealEstate_Edmonton_3960.csv', encoding='latin-1')\n"
     ]
    },
    {
     "name": "stdout",
     "output_type": "stream",
     "text": [
      "Active Data Columns: ['Prop Class', 'Area/City', 'Community', 'Status', 'List Price', 'Postal Code', 'Sold Date', 'Sold Price', 'Listing ID #', 'DOM', 'FlrArea SF', 'TotFlrArea', 'Rooms AG', 'Bedrms AG', 'Beds', 'Full Baths', 'Half Baths', 'Baths', 'Ensuite', 'Yr Built', 'Style', 'Front Exp', 'FrontageM', 'FP Y/N', 'Encl Park', 'PARKING', 'Condo Name', 'Construction Type', 'FLOORING', 'List Pr / SqFt', '# Finished Levels', 'Cumulative DOM', 'Cumulative DOMLS', 'Days On MLS', 'Bsmt Dev', 'Garage Y/N', 'Price', 'Lot Sq Metres', 'Carpet', 'Hardwood', 'Linoleum', 'Tile', 'Laminate', 'Vinyl Plank', 'GEOCODE', 'ACTIVE MONTH END', 'ActiveMonth', 'List Date']\n",
      "Sold Data Columns: ['Prop Class', 'Area/City', 'Community', 'Status', 'List Price', 'Postal Code', 'Sold Date', 'Sold Price', 'Listing ID #', 'DOM', 'FlrArea SF', 'TotFlrArea', 'Rooms AG', 'Bedrms AG', 'Beds', 'Full Baths', 'Half Baths', 'Baths', 'Ensuite', 'Yr Built', 'Style', 'Front Exp', 'FrontageM', 'FP Y/N', 'Encl Park', 'PARKING', 'Condo Name', 'Construction Type', 'FLOORING', 'List Pr / SqFt', '# Finished Levels', 'Cumulative DOM', 'Cumulative DOMLS', 'Days On MLS', 'Bsmt Dev', 'Garage Y/N', 'Price', 'Lot Sq Metres', 'Carpet', 'Hardwood', 'Linoleum', 'Tile', 'Laminate', 'Vinyl Plank', 'GEOCODE']\n",
      "\n",
      "Active Data Sample:\n",
      "  Prop Class Area/City Community Status  List Price Postal Code Sold Date  \\\n",
      "0       VLOT      Abee      Abee      A       40000     T0A 0A0       NaN   \n",
      "1       VLOT      Abee      Abee      A       40000     T0A 0A0       NaN   \n",
      "2       VLOT      Abee      Abee      A       39900     T0A 0A0       NaN   \n",
      "3       VLOT      Abee      Abee      A       39900     T0A 0A0       NaN   \n",
      "4       VLOT      Abee      Abee      A       39900     T0A 0A0       NaN   \n",
      "\n",
      "   Sold Price Listing ID #   DOM  ...  Carpet  Hardwood  Linoleum  Tile  \\\n",
      "0           0     E4099928  1062  ...       N         N         N     N   \n",
      "1           0     E4099928  1091  ...       N         N         N     N   \n",
      "2           0     E4243467   114  ...       N         N         N     N   \n",
      "3           0     E4243467    52  ...       N         N         N     N   \n",
      "4           0     E4243467    83  ...       N         N         N     N   \n",
      "\n",
      "   Laminate  Vinyl Plank  GEOCODE  ACTIVE MONTH END ActiveMonth   List Date  \n",
      "0         N            N      NaN         31-Jan-21  2021-01-31  2018-03-06  \n",
      "1         N            N      NaN         28-Feb-21  2021-02-28  2018-03-05  \n",
      "2         N            N      NaN         31-Aug-21  2021-08-31  2021-05-09  \n",
      "3         N            N      NaN         30-Jun-21  2021-06-30  2021-05-09  \n",
      "4         N            N      NaN         31-Jul-21  2021-07-31  2021-05-09  \n",
      "\n",
      "[5 rows x 48 columns]\n",
      "\n",
      "Sold Data Sample:\n",
      "  Prop Class Area/City Community Status  List Price Postal Code   Sold Date  \\\n",
      "0       VLOT      Abee      Abee      S       30000     T0A 0A0  2016-08-31   \n",
      "1         SF      Abee      Abee      S       74900     T0A 0A0  2023-07-27   \n",
      "2         SF      Abee      Abee      S      150000     T0A 0A0  2024-11-15   \n",
      "3         SF      Acme       NaN      S       99900     T0M 0A0  2003-06-17   \n",
      "4         SF      Acme       NaN      S      209900     T0M 0A0  2009-04-22   \n",
      "\n",
      "   Sold Price Listing ID #  DOM  ...  Garage Y/N   Price  Lot Sq Metres  \\\n",
      "0       21000     E3403984  552  ...         NaN   21000         8874.0   \n",
      "1       67000     E4349931   17  ...         Yes   67000            0.0   \n",
      "2      137000     E4410726   29  ...         Yes  137000            0.0   \n",
      "3       90000     E2310257   49  ...          No   90000            0.0   \n",
      "4      203000     E3177447   46  ...          No  203000            0.0   \n",
      "\n",
      "   Carpet  Hardwood  Linoleum  Tile  Laminate Vinyl Plank  GEOCODE  \n",
      "0       N         N         N     N         N           N      NaN  \n",
      "1       Y         Y         N     N         N           N      NaN  \n",
      "2       Y         N         Y     Y         N           N      NaN  \n",
      "3       Y         N         Y     N         N           N      2.0  \n",
      "4       N         N         N     Y         Y           N      2.0  \n",
      "\n",
      "[5 rows x 45 columns]\n"
     ]
    }
   ],
   "source": [
    "import pandas as pd\n",
    "\n",
    "# Load the datasets with the correct encoding\n",
    "try:\n",
    "    active_data = pd.read_csv('/Users/glennbarnes/inputData/ActiveData_RealEstate_Edmonton_3960.csv', encoding='latin-1')\n",
    "    sold_data = pd.read_csv('/Users/glennbarnes/inputData/SoldData_RealEstate_Edmonton_3960.csv', encoding='latin-1')\n",
    "except UnicodeDecodeError as e:\n",
    "    print(f\"Error reading the file: {e}\")\n",
    "\n",
    "# Extract column names and first rows for context\n",
    "active_data_info = active_data.head()\n",
    "sold_data_info = sold_data.head()\n",
    "\n",
    "# Print the column names and first rows of the datasets\n",
    "print(\"Active Data Columns:\", active_data_info.columns.tolist())\n",
    "print(\"Sold Data Columns:\", sold_data_info.columns.tolist())\n",
    "\n",
    "print(\"\\nActive Data Sample:\")\n",
    "print(active_data_info)\n",
    "\n",
    "print(\"\\nSold Data Sample:\")\n",
    "print(sold_data_info)\n"
   ]
  },
  {
   "cell_type": "markdown",
   "metadata": {},
   "source": [
    "# Common Columns Across Both Datasets\n",
    "\n",
    "## Property Details\n",
    "- **Prop Class**: The classification of the property (e.g., SF for Single Family, VLOT for Vacant Lot).\n",
    "- **Area/City**: The city or area where the property is located.\n",
    "- **Community**: The neighborhood or community name.\n",
    "- **Status**: Indicates the property status (e.g., Active (A) or Sold (S)).\n",
    "- **List Price**: The listing price of the property.\n",
    "- **Postal Code**: The postal code where the property is located.\n",
    "- **Sold Date**: The date the property was sold (null for active listings).\n",
    "- **Sold Price**: The final price for which the property was sold.\n",
    "- **Listing ID #**: A unique identifier for the property listing.\n",
    "- **DOM (Days on Market)**: The number of days the property has been listed.\n",
    "- **FlrArea SF**: The floor area of the property in square feet.\n",
    "- **TotFlrArea**: Total floor area, likely including all levels.\n",
    "- **Rooms AG**: Number of above-ground rooms.\n",
    "- **Bedrms AG**: Number of above-ground bedrooms.\n",
    "- **Beds**: Total number of bedrooms.\n",
    "- **Full Baths**: Number of full bathrooms.\n",
    "- **Half Baths**: Number of half bathrooms.\n",
    "- **Baths**: Total number of bathrooms.\n",
    "- **Ensuite**: Whether the property has an ensuite bathroom.\n",
    "- **Yr Built**: The year the property was built.\n",
    "- **Style**: Architectural style (e.g., bungalow, two-story).\n",
    "- **Front Exp**: Front exposure direction of the property.\n",
    "- **FrontageM**: Property frontage in meters.\n",
    "- **FP Y/N**: Whether the property has a fireplace (Y/N).\n",
    "- **Encl Park**: Enclosed parking availability.\n",
    "- **PARKING**: Details about parking (e.g., garage type, number of spaces).\n",
    "- **Condo Name**: Name of the condo (if applicable).\n",
    "- **Construction Type**: The type of construction (e.g., wood frame, concrete).\n",
    "- **FLOORING**: Types of flooring in the property (e.g., hardwood, carpet, etc.).\n",
    "- **List Pr / SqFt**: Listing price per square foot.\n",
    "- **# Finished Levels**: Number of finished levels in the property.\n",
    "- **Cumulative DOM**: Cumulative days on market across all listings.\n",
    "- **Bsmt Dev**: Basement development status (e.g., finished, unfinished).\n",
    "- **Garage Y/N**: Indicates if the property has a garage.\n",
    "- **Price**: Price attribute (could be a duplicate of \"List Price\" or \"Sold Price\").\n",
    "- **Lot Sq Metres**: Lot size in square meters.\n",
    "- **Carpet, Hardwood, Linoleum, Tile, Laminate, Vinyl Plank**: Flooring material details for the property (Y/N).\n",
    "- **GEOCODE**: Geospatial identifier, possibly latitude/longitude.\n",
    "\n",
    "## Columns Specific to Active Dataset\n",
    "- **ACTIVE MONTH END**: The month-end date for when the property was still listed.\n",
    "- **ActiveMonth**: The formatted version of the active month.\n",
    "- **List Date**: The date the property was first listed.\n",
    "\n",
    "## Columns Specific to Sold Dataset\n",
    "- **Cumulative DOMLS**: Cumulative Days on Market in the local MLS (Multiple Listing Service).\n",
    "- **Days On MLS**: Days on MLS for the current listing.\n",
    "\n",
    "## How to Use These Columns\n",
    "\n",
    "### Key Columns for Joins\n",
    "- **GEOCODE**, **Community**, **Postal Code**, or **Area/City** can be used to join with external datasets such as crime statistics or neighborhood demographics.\n",
    "\n",
    "### Columns for Predictive Modeling\n",
    "- Features like **FlrArea SF**, **TotFlrArea**, **Beds**, **Baths**, **Yr Built**, **Style**, and **FLOORING** are strong predictors for price.\n",
    "\n",
    "### Columns for Exploratory Analysis\n",
    "- **DOM**, **Cumulative DOM**, and **List Pr / SqFt** are useful for understanding market behavior and pricing trends.\n",
    "\n",
    "### Enriching with External Data\n",
    "- Use **GEOCODE** or **Postal Code** to integrate crime rates, school proximity, or demographic data."
   ]
  },
  {
   "cell_type": "markdown",
   "metadata": {},
   "source": []
  }
 ],
 "metadata": {
  "kernelspec": {
   "display_name": "base",
   "language": "python",
   "name": "python3"
  },
  "language_info": {
   "codemirror_mode": {
    "name": "ipython",
    "version": 3
   },
   "file_extension": ".py",
   "mimetype": "text/x-python",
   "name": "python",
   "nbconvert_exporter": "python",
   "pygments_lexer": "ipython3",
   "version": "3.12.7"
  }
 },
 "nbformat": 4,
 "nbformat_minor": 2
}
